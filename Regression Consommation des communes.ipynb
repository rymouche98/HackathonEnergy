{
 "cells": [
  {
   "cell_type": "code",
   "execution_count": 26,
   "metadata": {},
   "outputs": [],
   "source": [
    "import pandas as pd"
   ]
  },
  {
   "cell_type": "markdown",
   "metadata": {},
   "source": [
    "## Import des Données"
   ]
  },
  {
   "cell_type": "code",
   "execution_count": 27,
   "metadata": {},
   "outputs": [],
   "source": [
    "path1 = \"Données/consommation-annuelle-par-commune-new.csv\"\n",
    "path2 = \"Données/MDB-INSEE-V2.xls\""
   ]
  },
  {
   "cell_type": "code",
   "execution_count": 28,
   "metadata": {},
   "outputs": [
    {
     "name": "stdout",
     "output_type": "stream",
     "text": [
      "WARNING *** file size (57125979) not 512 + multiple of sector size (512)\n",
      "WARNING *** OLE2 inconsistency: SSCS size is 0 but SSAT size is non-zero\n"
     ]
    }
   ],
   "source": [
    "conso_annuelle = pd.read_csv(path1, encoding = 'latin', sep=\";\")\n",
    "btp_etat = pd.read_excel(path2)\n"
   ]
  },
  {
   "cell_type": "code",
   "execution_count": 68,
   "metadata": {},
   "outputs": [
    {
     "data": {
      "text/plain": [
       "array(['01001', '01002', '01004', ..., '97422', '97423', '97424'],\n",
       "      dtype=object)"
      ]
     },
     "execution_count": 68,
     "metadata": {},
     "output_type": "execute_result"
    }
   ],
   "source": [
    "btp_etat[\"CODGEO\"].unique()"
   ]
  },
  {
   "cell_type": "code",
   "execution_count": 32,
   "metadata": {},
   "outputs": [
    {
     "data": {
      "text/plain": [
       "['CODGEO',\n",
       " 'Nb Pharmacies et parfumerie',\n",
       " 'Dynamique Entrepreneuriale',\n",
       " 'Dynamique Entrepreneuriale Service et Commerce',\n",
       " 'Synergie Médicale COMMUNE',\n",
       " 'Orientation Economique',\n",
       " 'Indice Fiscal Partiel',\n",
       " 'Score Fiscal',\n",
       " 'Indice Evasion Client',\n",
       " 'Score Evasion Client',\n",
       " 'Indice Synergie Médicale',\n",
       " 'Score Synergie Médicale',\n",
       " 'SEG Croissance POP',\n",
       " 'LIBGEO',\n",
       " 'REG',\n",
       " 'DEP',\n",
       " 'Nb Omnipraticiens BV',\n",
       " 'Nb Infirmiers Libéraux BV',\n",
       " 'Nb dentistes Libéraux BV',\n",
       " 'Nb pharmaciens Libéraux BV',\n",
       " 'Densité Médicale BV',\n",
       " 'Score équipement de santé BV',\n",
       " 'Indice Démographique',\n",
       " 'Score Démographique',\n",
       " 'Indice Ménages',\n",
       " 'Score Ménages',\n",
       " 'Population',\n",
       " 'Evolution Population',\n",
       " 'Evolution Pop %',\n",
       " 'Nb Ménages',\n",
       " 'Nb Résidences Principales',\n",
       " 'Nb propriétaire',\n",
       " 'Nb Logement',\n",
       " 'Nb Résidences Secondaires',\n",
       " 'Nb Log Vacants',\n",
       " 'Nb Occupants Résidence Principale',\n",
       " 'Nb Femme',\n",
       " 'Nb Homme',\n",
       " 'Nb Mineurs',\n",
       " 'Nb Majeurs',\n",
       " 'Nb Etudiants',\n",
       " 'Nb Entreprises Secteur Services',\n",
       " 'Nb Entreprises Secteur Commerce',\n",
       " 'Nb Entreprises Secteur Construction',\n",
       " 'Nb Entreprises Secteur Industrie',\n",
       " 'Nb Création Enteprises',\n",
       " 'Nb Création Industrielles',\n",
       " 'Nb Création Construction',\n",
       " 'Nb Création Commerces',\n",
       " 'Nb Création Services',\n",
       " 'Moyenne Revenus Fiscaux Départementaux',\n",
       " 'Moyenne Revenus Fiscaux Régionaux',\n",
       " 'Dep Moyenne Salaires Horaires',\n",
       " 'Dep Moyenne Salaires Cadre Horaires',\n",
       " 'Dep Moyenne Salaires Prof Intermédiaire Horaires',\n",
       " 'Dep Moyenne Salaires Employé Horaires',\n",
       " 'Dep Moyenne Salaires Ouvrié Horaires',\n",
       " 'Reg Moyenne Salaires Horaires',\n",
       " 'Reg Moyenne Salaires Cadre Horaires',\n",
       " 'Reg Moyenne Salaires Prof Intermédiaire Horaires',\n",
       " 'Reg Moyenne Salaires Employé Horaires',\n",
       " 'Reg Moyenne Salaires Ouvrié Horaires',\n",
       " 'Valeur ajoutée régionale',\n",
       " 'Urbanité Ruralité',\n",
       " 'Score Urbanité',\n",
       " 'Nb Atifs',\n",
       " 'Nb Actifs Salariés',\n",
       " 'Nb Actifs Non Salariés',\n",
       " 'Nb Logement Secondaire et Occasionnel',\n",
       " 'Nb Hotel',\n",
       " 'Capacité Hotel',\n",
       " 'Nb Camping',\n",
       " 'Capacité Camping',\n",
       " 'Dynamique Démographique BV',\n",
       " 'Taux étudiants',\n",
       " 'Taux Propriété',\n",
       " 'Dynamique Démographique INSEE',\n",
       " 'Capacité Fisc',\n",
       " 'Capacité Fiscale',\n",
       " 'Moyenne Revnus fiscaux',\n",
       " 'Taux Evasion Client',\n",
       " 'Nb Education, santé, action sociale',\n",
       " 'Nb Services personnels et domestiques',\n",
       " 'Nb Santé, action sociale',\n",
       " 'Nb Industries des biens intermédiaires',\n",
       " 'Nb de Commerce',\n",
       " 'Nb de Services aux particuliers',\n",
       " 'Nb institution de Education, santé, action sociale, administration',\n",
       " 'PIB Régionnal',\n",
       " 'SEG Environnement Démographique Obsolète',\n",
       " 'Score Croissance Population',\n",
       " 'Score Croissance Entrepreneuriale',\n",
       " 'Score VA Région',\n",
       " 'Score PIB',\n",
       " 'Environnement Démographique',\n",
       " 'Fidélité',\n",
       " 'SYN MEDICAL',\n",
       " 'Seg Cap Fiscale',\n",
       " 'Seg Dyn Entre',\n",
       " 'DYN SetC',\n",
       " 'CP']"
      ]
     },
     "execution_count": 32,
     "metadata": {},
     "output_type": "execute_result"
    }
   ],
   "source": [
    "list(btp_etat.columns)"
   ]
  },
  {
   "cell_type": "code",
   "execution_count": 33,
   "metadata": {},
   "outputs": [],
   "source": [
    "all_interesting_features = btp_etat.columns"
   ]
  },
  {
   "cell_type": "code",
   "execution_count": 30,
   "metadata": {},
   "outputs": [
    {
     "data": {
      "text/html": [
       "<div>\n",
       "<style scoped>\n",
       "    .dataframe tbody tr th:only-of-type {\n",
       "        vertical-align: middle;\n",
       "    }\n",
       "\n",
       "    .dataframe tbody tr th {\n",
       "        vertical-align: top;\n",
       "    }\n",
       "\n",
       "    .dataframe thead th {\n",
       "        text-align: right;\n",
       "    }\n",
       "</style>\n",
       "<table border=\"1\" class=\"dataframe\">\n",
       "  <thead>\n",
       "    <tr style=\"text-align: right;\">\n",
       "      <th></th>\n",
       "      <th>territoire</th>\n",
       "      <th>commune</th>\n",
       "      <th>annee</th>\n",
       "      <th>geo_shape</th>\n",
       "      <th>code_insee</th>\n",
       "      <th>secteur</th>\n",
       "      <th>consommation_mwh</th>\n",
       "      <th>nombre_de_pds</th>\n",
       "      <th>geo_point_2d</th>\n",
       "    </tr>\n",
       "  </thead>\n",
       "  <tbody>\n",
       "    <tr>\n",
       "      <th>0</th>\n",
       "      <td>Corse</td>\n",
       "      <td>Afa</td>\n",
       "      <td>2012</td>\n",
       "      <td>{\"type\": \"Polygon\", \"coordinates\": [[[8.784623...</td>\n",
       "      <td>2A001</td>\n",
       "      <td>Non affectÃ©</td>\n",
       "      <td>17364.0</td>\n",
       "      <td>NaN</td>\n",
       "      <td>41.9839501985,8.79834460109</td>\n",
       "    </tr>\n",
       "    <tr>\n",
       "      <th>1</th>\n",
       "      <td>Corse</td>\n",
       "      <td>Albitreccia</td>\n",
       "      <td>2012</td>\n",
       "      <td>{\"type\": \"Polygon\", \"coordinates\": [[[8.912546...</td>\n",
       "      <td>2A008</td>\n",
       "      <td>Non affectÃ©</td>\n",
       "      <td>9067.0</td>\n",
       "      <td>NaN</td>\n",
       "      <td>41.860583203,8.8773015755</td>\n",
       "    </tr>\n",
       "    <tr>\n",
       "      <th>2</th>\n",
       "      <td>Corse</td>\n",
       "      <td>Altiani</td>\n",
       "      <td>2012</td>\n",
       "      <td>{\"type\": \"Polygon\", \"coordinates\": [[[9.291797...</td>\n",
       "      <td>2B012</td>\n",
       "      <td>Non affectÃ©</td>\n",
       "      <td>456.0</td>\n",
       "      <td>NaN</td>\n",
       "      <td>42.2199015502,9.27896340729</td>\n",
       "    </tr>\n",
       "    <tr>\n",
       "      <th>3</th>\n",
       "      <td>Corse</td>\n",
       "      <td>Ampriani</td>\n",
       "      <td>2012</td>\n",
       "      <td>{\"type\": \"Polygon\", \"coordinates\": [[[9.357045...</td>\n",
       "      <td>2B015</td>\n",
       "      <td>Non affectÃ©</td>\n",
       "      <td>82.0</td>\n",
       "      <td>NaN</td>\n",
       "      <td>42.2542599711,9.35682808827</td>\n",
       "    </tr>\n",
       "    <tr>\n",
       "      <th>4</th>\n",
       "      <td>Corse</td>\n",
       "      <td>Antisanti</td>\n",
       "      <td>2012</td>\n",
       "      <td>{\"type\": \"Polygon\", \"coordinates\": [[[9.316641...</td>\n",
       "      <td>2B016</td>\n",
       "      <td>Non affectÃ©</td>\n",
       "      <td>4972.0</td>\n",
       "      <td>NaN</td>\n",
       "      <td>42.1565359376,9.3833327974</td>\n",
       "    </tr>\n",
       "    <tr>\n",
       "      <th>...</th>\n",
       "      <td>...</td>\n",
       "      <td>...</td>\n",
       "      <td>...</td>\n",
       "      <td>...</td>\n",
       "      <td>...</td>\n",
       "      <td>...</td>\n",
       "      <td>...</td>\n",
       "      <td>...</td>\n",
       "      <td>...</td>\n",
       "    </tr>\n",
       "    <tr>\n",
       "      <th>10323</th>\n",
       "      <td>RÃ©union</td>\n",
       "      <td>Saint-Philippe</td>\n",
       "      <td>2019</td>\n",
       "      <td>{\"type\": \"Polygon\", \"coordinates\": [[[55.67876...</td>\n",
       "      <td>97417</td>\n",
       "      <td>RÃ©sidentiel</td>\n",
       "      <td>6356.0</td>\n",
       "      <td>2082.0</td>\n",
       "      <td>-21.303948518,55.7450019415</td>\n",
       "    </tr>\n",
       "    <tr>\n",
       "      <th>10324</th>\n",
       "      <td>RÃ©union</td>\n",
       "      <td>Sainte-Marie</td>\n",
       "      <td>2019</td>\n",
       "      <td>{\"type\": \"Polygon\", \"coordinates\": [[[55.54069...</td>\n",
       "      <td>97418</td>\n",
       "      <td>Tertiaire</td>\n",
       "      <td>72334.0</td>\n",
       "      <td>1065.0</td>\n",
       "      <td>-20.946812748,55.5307201449</td>\n",
       "    </tr>\n",
       "    <tr>\n",
       "      <th>10325</th>\n",
       "      <td>RÃ©union</td>\n",
       "      <td>Sainte-Rose</td>\n",
       "      <td>2019</td>\n",
       "      <td>{\"type\": \"Polygon\", \"coordinates\": [[[55.67876...</td>\n",
       "      <td>97419</td>\n",
       "      <td>Agriculture</td>\n",
       "      <td>121.0</td>\n",
       "      <td>14.0</td>\n",
       "      <td>-21.1923212248,55.7545038711</td>\n",
       "    </tr>\n",
       "    <tr>\n",
       "      <th>10326</th>\n",
       "      <td>RÃ©union</td>\n",
       "      <td>Sainte-Rose</td>\n",
       "      <td>2019</td>\n",
       "      <td>{\"type\": \"Polygon\", \"coordinates\": [[[55.67876...</td>\n",
       "      <td>97419</td>\n",
       "      <td>Industrie</td>\n",
       "      <td>481.0</td>\n",
       "      <td>18.0</td>\n",
       "      <td>-21.1923212248,55.7545038711</td>\n",
       "    </tr>\n",
       "    <tr>\n",
       "      <th>10327</th>\n",
       "      <td>RÃ©union</td>\n",
       "      <td>Sainte-Suzanne</td>\n",
       "      <td>2019</td>\n",
       "      <td>{\"type\": \"Polygon\", \"coordinates\": [[[55.57420...</td>\n",
       "      <td>97420</td>\n",
       "      <td>RÃ©sidentiel</td>\n",
       "      <td>30680.0</td>\n",
       "      <td>8839.0</td>\n",
       "      <td>-20.9455740943,55.5931298767</td>\n",
       "    </tr>\n",
       "  </tbody>\n",
       "</table>\n",
       "<p>10328 rows × 9 columns</p>\n",
       "</div>"
      ],
      "text/plain": [
       "      territoire         commune  annee  \\\n",
       "0          Corse             Afa   2012   \n",
       "1          Corse     Albitreccia   2012   \n",
       "2          Corse         Altiani   2012   \n",
       "3          Corse        Ampriani   2012   \n",
       "4          Corse       Antisanti   2012   \n",
       "...          ...             ...    ...   \n",
       "10323   RÃ©union  Saint-Philippe   2019   \n",
       "10324   RÃ©union    Sainte-Marie   2019   \n",
       "10325   RÃ©union     Sainte-Rose   2019   \n",
       "10326   RÃ©union     Sainte-Rose   2019   \n",
       "10327   RÃ©union  Sainte-Suzanne   2019   \n",
       "\n",
       "                                               geo_shape code_insee  \\\n",
       "0      {\"type\": \"Polygon\", \"coordinates\": [[[8.784623...      2A001   \n",
       "1      {\"type\": \"Polygon\", \"coordinates\": [[[8.912546...      2A008   \n",
       "2      {\"type\": \"Polygon\", \"coordinates\": [[[9.291797...      2B012   \n",
       "3      {\"type\": \"Polygon\", \"coordinates\": [[[9.357045...      2B015   \n",
       "4      {\"type\": \"Polygon\", \"coordinates\": [[[9.316641...      2B016   \n",
       "...                                                  ...        ...   \n",
       "10323  {\"type\": \"Polygon\", \"coordinates\": [[[55.67876...      97417   \n",
       "10324  {\"type\": \"Polygon\", \"coordinates\": [[[55.54069...      97418   \n",
       "10325  {\"type\": \"Polygon\", \"coordinates\": [[[55.67876...      97419   \n",
       "10326  {\"type\": \"Polygon\", \"coordinates\": [[[55.67876...      97419   \n",
       "10327  {\"type\": \"Polygon\", \"coordinates\": [[[55.57420...      97420   \n",
       "\n",
       "            secteur  consommation_mwh  nombre_de_pds  \\\n",
       "0      Non affectÃ©           17364.0            NaN   \n",
       "1      Non affectÃ©            9067.0            NaN   \n",
       "2      Non affectÃ©             456.0            NaN   \n",
       "3      Non affectÃ©              82.0            NaN   \n",
       "4      Non affectÃ©            4972.0            NaN   \n",
       "...             ...               ...            ...   \n",
       "10323  RÃ©sidentiel            6356.0         2082.0   \n",
       "10324     Tertiaire           72334.0         1065.0   \n",
       "10325   Agriculture             121.0           14.0   \n",
       "10326     Industrie             481.0           18.0   \n",
       "10327  RÃ©sidentiel           30680.0         8839.0   \n",
       "\n",
       "                       geo_point_2d  \n",
       "0       41.9839501985,8.79834460109  \n",
       "1         41.860583203,8.8773015755  \n",
       "2       42.2199015502,9.27896340729  \n",
       "3       42.2542599711,9.35682808827  \n",
       "4        42.1565359376,9.3833327974  \n",
       "...                             ...  \n",
       "10323   -21.303948518,55.7450019415  \n",
       "10324   -20.946812748,55.5307201449  \n",
       "10325  -21.1923212248,55.7545038711  \n",
       "10326  -21.1923212248,55.7545038711  \n",
       "10327  -20.9455740943,55.5931298767  \n",
       "\n",
       "[10328 rows x 9 columns]"
      ]
     },
     "execution_count": 30,
     "metadata": {},
     "output_type": "execute_result"
    }
   ],
   "source": [
    "conso_annuelle"
   ]
  },
  {
   "cell_type": "markdown",
   "metadata": {},
   "source": [
    "### Jointure par code insee"
   ]
  },
  {
   "cell_type": "code",
   "execution_count": 62,
   "metadata": {},
   "outputs": [
    {
     "data": {
      "text/html": [
       "<div>\n",
       "<style scoped>\n",
       "    .dataframe tbody tr th:only-of-type {\n",
       "        vertical-align: middle;\n",
       "    }\n",
       "\n",
       "    .dataframe tbody tr th {\n",
       "        vertical-align: top;\n",
       "    }\n",
       "\n",
       "    .dataframe thead th {\n",
       "        text-align: right;\n",
       "    }\n",
       "</style>\n",
       "<table border=\"1\" class=\"dataframe\">\n",
       "  <thead>\n",
       "    <tr style=\"text-align: right;\">\n",
       "      <th></th>\n",
       "      <th>Code INSEE</th>\n",
       "      <th>CODGEO</th>\n",
       "    </tr>\n",
       "  </thead>\n",
       "  <tbody>\n",
       "    <tr>\n",
       "      <th>0</th>\n",
       "      <td>59276</td>\n",
       "      <td>59287</td>\n",
       "    </tr>\n",
       "    <tr>\n",
       "      <th>1</th>\n",
       "      <td>88128</td>\n",
       "      <td>88210</td>\n",
       "    </tr>\n",
       "    <tr>\n",
       "      <th>2</th>\n",
       "      <td>57538</td>\n",
       "      <td>57170</td>\n",
       "    </tr>\n",
       "    <tr>\n",
       "      <th>3</th>\n",
       "      <td>54459</td>\n",
       "      <td>54630</td>\n",
       "    </tr>\n",
       "    <tr>\n",
       "      <th>4</th>\n",
       "      <td>35022</td>\n",
       "      <td>35190</td>\n",
       "    </tr>\n",
       "    <tr>\n",
       "      <th>...</th>\n",
       "      <td>...</td>\n",
       "      <td>...</td>\n",
       "    </tr>\n",
       "    <tr>\n",
       "      <th>36737</th>\n",
       "      <td>72103</td>\n",
       "      <td>72150</td>\n",
       "    </tr>\n",
       "    <tr>\n",
       "      <th>36738</th>\n",
       "      <td>57312</td>\n",
       "      <td>57220</td>\n",
       "    </tr>\n",
       "    <tr>\n",
       "      <th>36739</th>\n",
       "      <td>32383</td>\n",
       "      <td>32230</td>\n",
       "    </tr>\n",
       "    <tr>\n",
       "      <th>36740</th>\n",
       "      <td>17278</td>\n",
       "      <td>17600</td>\n",
       "    </tr>\n",
       "    <tr>\n",
       "      <th>36741</th>\n",
       "      <td>33363</td>\n",
       "      <td>33670</td>\n",
       "    </tr>\n",
       "  </tbody>\n",
       "</table>\n",
       "<p>36742 rows × 2 columns</p>\n",
       "</div>"
      ],
      "text/plain": [
       "      Code INSEE CODGEO\n",
       "0          59276  59287\n",
       "1          88128  88210\n",
       "2          57538  57170\n",
       "3          54459  54630\n",
       "4          35022  35190\n",
       "...          ...    ...\n",
       "36737      72103  72150\n",
       "36738      57312  57220\n",
       "36739      32383  32230\n",
       "36740      17278  17600\n",
       "36741      33363  33670\n",
       "\n",
       "[36742 rows x 2 columns]"
      ]
     },
     "execution_count": 62,
     "metadata": {},
     "output_type": "execute_result"
    }
   ],
   "source": [
    "path = \"correspondance-code-insee-code-postal.csv\"\n",
    "df_insee_cp = pd.read_csv(path, encoding = 'latin', sep=\";\").rename(columns={\"Code Postal\":\"CODGEO\"})\n",
    "df_insee_cp[[\"Code INSEE\",\"CODGEO\"]]"
   ]
  },
  {
   "cell_type": "code",
   "execution_count": 52,
   "metadata": {},
   "outputs": [
    {
     "data": {
      "text/plain": [
       "'59287'"
      ]
     },
     "execution_count": 52,
     "metadata": {},
     "output_type": "execute_result"
    }
   ],
   "source": [
    "df_insee_cp[\"CP\"][0]"
   ]
  },
  {
   "cell_type": "code",
   "execution_count": 61,
   "metadata": {},
   "outputs": [
    {
     "data": {
      "text/plain": [
       "'02'"
      ]
     },
     "execution_count": 61,
     "metadata": {},
     "output_type": "execute_result"
    }
   ],
   "source": [
    "btp_etat[\"R\"][500]"
   ]
  },
  {
   "cell_type": "code",
   "execution_count": 121,
   "metadata": {},
   "outputs": [],
   "source": [
    "join = btp_etat.join(df_insee_cp[[\"Code INSEE\",\"CODGEO\"]].set_index('CODGEO'), on='CODGEO')\n",
    "join_insee_cp = join[~join[\"Code INSEE\"].isna()]"
   ]
  },
  {
   "cell_type": "code",
   "execution_count": 122,
   "metadata": {},
   "outputs": [],
   "source": [
    "conso_communes = conso_annuelle.rename(columns={\"code_insee\":\"Code INSEE\"}).join(join_insee_cp.set_index(\"Code INSEE\"), on=\"Code INSEE\")"
   ]
  },
  {
   "cell_type": "markdown",
   "metadata": {},
   "source": [
    "## Regression"
   ]
  },
  {
   "cell_type": "code",
   "execution_count": 123,
   "metadata": {},
   "outputs": [],
   "source": [
    "Y = conso_communes[\"consommation_mwh\"]\n",
    "X = conso_communes.drop(\"consommation_mwh\",axis=1)"
   ]
  },
  {
   "cell_type": "code",
   "execution_count": 124,
   "metadata": {},
   "outputs": [],
   "source": [
    "all_interesting_features = [\"Nb Pharmacies et parfumerie\",\"Dynamique Entrepreneuriale\", \"Dynamique Entrepreneuriale Service et Commerce\", \"Score Fiscal\", \"Score Synergie Médicale\",\"Nb Omnipraticiens BV\", \"Score Démographique\", \"Score Ménages\",\"Population\",\"Evolution Population\"]"
   ]
  },
  {
   "cell_type": "code",
   "execution_count": 125,
   "metadata": {},
   "outputs": [],
   "source": [
    "for c in X.columns:\n",
    "    if \"Nb\" in c and c not in all_interesting_features:\n",
    "        all_interesting_features.append(c)"
   ]
  },
  {
   "cell_type": "code",
   "execution_count": 126,
   "metadata": {},
   "outputs": [],
   "source": [
    "for c in all_interesting_features:\n",
    "    X[c] = pd.to_numeric(X[c], downcast='float')"
   ]
  },
  {
   "cell_type": "code",
   "execution_count": 127,
   "metadata": {},
   "outputs": [],
   "source": [
    "X = X[all_interesting_features].fillna(0)"
   ]
  },
  {
   "cell_type": "code",
   "execution_count": 128,
   "metadata": {},
   "outputs": [],
   "source": [
    "from sklearn import datasets, linear_model\n",
    "from sklearn.model_selection import cross_validate\n",
    "from sklearn.metrics import make_scorer\n",
    "from sklearn.metrics import confusion_matrix\n",
    "\n",
    "lasso = linear_model.Lasso()"
   ]
  },
  {
   "cell_type": "code",
   "execution_count": 129,
   "metadata": {},
   "outputs": [
    {
     "name": "stderr",
     "output_type": "stream",
     "text": [
      "/home/rym/anaconda3/lib/python3.7/site-packages/sklearn/linear_model/coordinate_descent.py:475: ConvergenceWarning: Objective did not converge. You might want to increase the number of iterations. Duality gap: 3131799583358.3716, tolerance: 671531045.5716113\n",
      "  positive)\n"
     ]
    },
    {
     "name": "stdout",
     "output_type": "stream",
     "text": [
      "[-2.24724606e+08 -8.72857654e+07 -1.98360602e+09]\n",
      "[0.06733874 0.06026607 0.        ]\n"
     ]
    },
    {
     "name": "stderr",
     "output_type": "stream",
     "text": [
      "/home/rym/anaconda3/lib/python3.7/site-packages/sklearn/linear_model/coordinate_descent.py:475: ConvergenceWarning: Objective did not converge. You might want to increase the number of iterations. Duality gap: 3384761150855.975, tolerance: 720315641.8705244\n",
      "  positive)\n"
     ]
    }
   ],
   "source": [
    "scores = cross_validate(lasso, X, Y, cv=3,\n",
    "...                         scoring=('r2', 'neg_mean_squared_error'),\n",
    "...                         return_train_score=True)\n",
    "print(scores['test_neg_mean_squared_error'])\n",
    "print(scores['train_r2'])"
   ]
  },
  {
   "cell_type": "code",
   "execution_count": null,
   "metadata": {},
   "outputs": [],
   "source": []
  }
 ],
 "metadata": {
  "kernelspec": {
   "display_name": "Python 3",
   "language": "python",
   "name": "python3"
  },
  "language_info": {
   "codemirror_mode": {
    "name": "ipython",
    "version": 3
   },
   "file_extension": ".py",
   "mimetype": "text/x-python",
   "name": "python",
   "nbconvert_exporter": "python",
   "pygments_lexer": "ipython3",
   "version": "3.7.4"
  }
 },
 "nbformat": 4,
 "nbformat_minor": 2
}
